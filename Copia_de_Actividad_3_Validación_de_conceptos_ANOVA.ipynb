{
  "nbformat": 4,
  "nbformat_minor": 0,
  "metadata": {
    "colab": {
      "provenance": [],
      "include_colab_link": true
    },
    "kernelspec": {
      "name": "python3",
      "display_name": "Python 3"
    },
    "language_info": {
      "name": "python"
    }
  },
  "cells": [
    {
      "cell_type": "markdown",
      "metadata": {
        "id": "view-in-github",
        "colab_type": "text"
      },
      "source": [
        "<a href=\"https://colab.research.google.com/github/juanjordgz/Copia-de-Actividad-3.-Validaci-n-de-conceptos---ANOVA/blob/main/Copia_de_Actividad_3_Validaci%C3%B3n_de_conceptos_ANOVA.ipynb\" target=\"_parent\"><img src=\"https://colab.research.google.com/assets/colab-badge.svg\" alt=\"Open In Colab\"/></a>"
      ]
    },
    {
      "cell_type": "code",
      "execution_count": null,
      "metadata": {
        "id": "sBdqiScp5qGv"
      },
      "outputs": [],
      "source": [
        "import numpy as np\n",
        "import pandas as pd\n",
        "import matplotlib.pyplot as plt\n",
        "import seaborn as sns\n",
        "import statsmodels. formula.api as smf\n",
        "from scipy.stats import pearsonr\n",
        "from scipy.stats import shapiro\n",
        "from scipy.stats import levene\n",
        "import statsmodels.api as sm\n",
        "from statsmodels.formula.api import ols\n",
        "from statsmodels.stats.multicomp import pairwise_tukeyhsd"
      ]
    },
    {
      "cell_type": "code",
      "source": [
        "#Carga desde un archivo .csv sin indice\n",
        "datacacao = pd. read_csv('flavors_of_cacao.csv')\n",
        "datacacao.head()"
      ],
      "metadata": {
        "colab": {
          "base_uri": "https://localhost:8080/",
          "height": 206
        },
        "id": "Yn9R6eeOCcf6",
        "outputId": "b122580b-538a-40f3-b58e-65f38ef9d829"
      },
      "execution_count": null,
      "outputs": [
        {
          "output_type": "execute_result",
          "data": {
            "text/plain": [
              "    Company Specific Bean Origin or Bar Name   REF  Review Date Cocoa Percent  \\\n",
              "0  A. Morin                      Agua Grande  1876         2016           63%   \n",
              "1  A. Morin                            Kpime  1676         2015           70%   \n",
              "2  A. Morin                           Atsane  1676         2015           70%   \n",
              "3  A. Morin                            Akata  1680         2015           70%   \n",
              "4  A. Morin                           Quilla  1704         2015           70%   \n",
              "\n",
              "  Company Location  Rating Bean Type Broad Bean Origin  \n",
              "0           France    3.75                    Sao Tome  \n",
              "1           France    2.75                        Togo  \n",
              "2           France    3.00                        Togo  \n",
              "3           France    3.50                        Togo  \n",
              "4           France    3.50                        Peru  "
            ],
            "text/html": [
              "\n",
              "  <div id=\"df-3ec9fdf1-fc8d-41de-9bca-0552d1cb1714\" class=\"colab-df-container\">\n",
              "    <div>\n",
              "<style scoped>\n",
              "    .dataframe tbody tr th:only-of-type {\n",
              "        vertical-align: middle;\n",
              "    }\n",
              "\n",
              "    .dataframe tbody tr th {\n",
              "        vertical-align: top;\n",
              "    }\n",
              "\n",
              "    .dataframe thead th {\n",
              "        text-align: right;\n",
              "    }\n",
              "</style>\n",
              "<table border=\"1\" class=\"dataframe\">\n",
              "  <thead>\n",
              "    <tr style=\"text-align: right;\">\n",
              "      <th></th>\n",
              "      <th>Company</th>\n",
              "      <th>Specific Bean Origin or Bar Name</th>\n",
              "      <th>REF</th>\n",
              "      <th>Review Date</th>\n",
              "      <th>Cocoa Percent</th>\n",
              "      <th>Company Location</th>\n",
              "      <th>Rating</th>\n",
              "      <th>Bean Type</th>\n",
              "      <th>Broad Bean Origin</th>\n",
              "    </tr>\n",
              "  </thead>\n",
              "  <tbody>\n",
              "    <tr>\n",
              "      <th>0</th>\n",
              "      <td>A. Morin</td>\n",
              "      <td>Agua Grande</td>\n",
              "      <td>1876</td>\n",
              "      <td>2016</td>\n",
              "      <td>63%</td>\n",
              "      <td>France</td>\n",
              "      <td>3.75</td>\n",
              "      <td></td>\n",
              "      <td>Sao Tome</td>\n",
              "    </tr>\n",
              "    <tr>\n",
              "      <th>1</th>\n",
              "      <td>A. Morin</td>\n",
              "      <td>Kpime</td>\n",
              "      <td>1676</td>\n",
              "      <td>2015</td>\n",
              "      <td>70%</td>\n",
              "      <td>France</td>\n",
              "      <td>2.75</td>\n",
              "      <td></td>\n",
              "      <td>Togo</td>\n",
              "    </tr>\n",
              "    <tr>\n",
              "      <th>2</th>\n",
              "      <td>A. Morin</td>\n",
              "      <td>Atsane</td>\n",
              "      <td>1676</td>\n",
              "      <td>2015</td>\n",
              "      <td>70%</td>\n",
              "      <td>France</td>\n",
              "      <td>3.00</td>\n",
              "      <td></td>\n",
              "      <td>Togo</td>\n",
              "    </tr>\n",
              "    <tr>\n",
              "      <th>3</th>\n",
              "      <td>A. Morin</td>\n",
              "      <td>Akata</td>\n",
              "      <td>1680</td>\n",
              "      <td>2015</td>\n",
              "      <td>70%</td>\n",
              "      <td>France</td>\n",
              "      <td>3.50</td>\n",
              "      <td></td>\n",
              "      <td>Togo</td>\n",
              "    </tr>\n",
              "    <tr>\n",
              "      <th>4</th>\n",
              "      <td>A. Morin</td>\n",
              "      <td>Quilla</td>\n",
              "      <td>1704</td>\n",
              "      <td>2015</td>\n",
              "      <td>70%</td>\n",
              "      <td>France</td>\n",
              "      <td>3.50</td>\n",
              "      <td></td>\n",
              "      <td>Peru</td>\n",
              "    </tr>\n",
              "  </tbody>\n",
              "</table>\n",
              "</div>\n",
              "    <div class=\"colab-df-buttons\">\n",
              "\n",
              "  <div class=\"colab-df-container\">\n",
              "    <button class=\"colab-df-convert\" onclick=\"convertToInteractive('df-3ec9fdf1-fc8d-41de-9bca-0552d1cb1714')\"\n",
              "            title=\"Convert this dataframe to an interactive table.\"\n",
              "            style=\"display:none;\">\n",
              "\n",
              "  <svg xmlns=\"http://www.w3.org/2000/svg\" height=\"24px\" viewBox=\"0 -960 960 960\">\n",
              "    <path d=\"M120-120v-720h720v720H120Zm60-500h600v-160H180v160Zm220 220h160v-160H400v160Zm0 220h160v-160H400v160ZM180-400h160v-160H180v160Zm440 0h160v-160H620v160ZM180-180h160v-160H180v160Zm440 0h160v-160H620v160Z\"/>\n",
              "  </svg>\n",
              "    </button>\n",
              "\n",
              "  <style>\n",
              "    .colab-df-container {\n",
              "      display:flex;\n",
              "      gap: 12px;\n",
              "    }\n",
              "\n",
              "    .colab-df-convert {\n",
              "      background-color: #E8F0FE;\n",
              "      border: none;\n",
              "      border-radius: 50%;\n",
              "      cursor: pointer;\n",
              "      display: none;\n",
              "      fill: #1967D2;\n",
              "      height: 32px;\n",
              "      padding: 0 0 0 0;\n",
              "      width: 32px;\n",
              "    }\n",
              "\n",
              "    .colab-df-convert:hover {\n",
              "      background-color: #E2EBFA;\n",
              "      box-shadow: 0px 1px 2px rgba(60, 64, 67, 0.3), 0px 1px 3px 1px rgba(60, 64, 67, 0.15);\n",
              "      fill: #174EA6;\n",
              "    }\n",
              "\n",
              "    .colab-df-buttons div {\n",
              "      margin-bottom: 4px;\n",
              "    }\n",
              "\n",
              "    [theme=dark] .colab-df-convert {\n",
              "      background-color: #3B4455;\n",
              "      fill: #D2E3FC;\n",
              "    }\n",
              "\n",
              "    [theme=dark] .colab-df-convert:hover {\n",
              "      background-color: #434B5C;\n",
              "      box-shadow: 0px 1px 3px 1px rgba(0, 0, 0, 0.15);\n",
              "      filter: drop-shadow(0px 1px 2px rgba(0, 0, 0, 0.3));\n",
              "      fill: #FFFFFF;\n",
              "    }\n",
              "  </style>\n",
              "\n",
              "    <script>\n",
              "      const buttonEl =\n",
              "        document.querySelector('#df-3ec9fdf1-fc8d-41de-9bca-0552d1cb1714 button.colab-df-convert');\n",
              "      buttonEl.style.display =\n",
              "        google.colab.kernel.accessAllowed ? 'block' : 'none';\n",
              "\n",
              "      async function convertToInteractive(key) {\n",
              "        const element = document.querySelector('#df-3ec9fdf1-fc8d-41de-9bca-0552d1cb1714');\n",
              "        const dataTable =\n",
              "          await google.colab.kernel.invokeFunction('convertToInteractive',\n",
              "                                                    [key], {});\n",
              "        if (!dataTable) return;\n",
              "\n",
              "        const docLinkHtml = 'Like what you see? Visit the ' +\n",
              "          '<a target=\"_blank\" href=https://colab.research.google.com/notebooks/data_table.ipynb>data table notebook</a>'\n",
              "          + ' to learn more about interactive tables.';\n",
              "        element.innerHTML = '';\n",
              "        dataTable['output_type'] = 'display_data';\n",
              "        await google.colab.output.renderOutput(dataTable, element);\n",
              "        const docLink = document.createElement('div');\n",
              "        docLink.innerHTML = docLinkHtml;\n",
              "        element.appendChild(docLink);\n",
              "      }\n",
              "    </script>\n",
              "  </div>\n",
              "\n",
              "\n",
              "<div id=\"df-ac1a1f6c-556e-4f68-988f-8ff28e5c440f\">\n",
              "  <button class=\"colab-df-quickchart\" onclick=\"quickchart('df-ac1a1f6c-556e-4f68-988f-8ff28e5c440f')\"\n",
              "            title=\"Suggest charts\"\n",
              "            style=\"display:none;\">\n",
              "\n",
              "<svg xmlns=\"http://www.w3.org/2000/svg\" height=\"24px\"viewBox=\"0 0 24 24\"\n",
              "     width=\"24px\">\n",
              "    <g>\n",
              "        <path d=\"M19 3H5c-1.1 0-2 .9-2 2v14c0 1.1.9 2 2 2h14c1.1 0 2-.9 2-2V5c0-1.1-.9-2-2-2zM9 17H7v-7h2v7zm4 0h-2V7h2v10zm4 0h-2v-4h2v4z\"/>\n",
              "    </g>\n",
              "</svg>\n",
              "  </button>\n",
              "\n",
              "<style>\n",
              "  .colab-df-quickchart {\n",
              "      --bg-color: #E8F0FE;\n",
              "      --fill-color: #1967D2;\n",
              "      --hover-bg-color: #E2EBFA;\n",
              "      --hover-fill-color: #174EA6;\n",
              "      --disabled-fill-color: #AAA;\n",
              "      --disabled-bg-color: #DDD;\n",
              "  }\n",
              "\n",
              "  [theme=dark] .colab-df-quickchart {\n",
              "      --bg-color: #3B4455;\n",
              "      --fill-color: #D2E3FC;\n",
              "      --hover-bg-color: #434B5C;\n",
              "      --hover-fill-color: #FFFFFF;\n",
              "      --disabled-bg-color: #3B4455;\n",
              "      --disabled-fill-color: #666;\n",
              "  }\n",
              "\n",
              "  .colab-df-quickchart {\n",
              "    background-color: var(--bg-color);\n",
              "    border: none;\n",
              "    border-radius: 50%;\n",
              "    cursor: pointer;\n",
              "    display: none;\n",
              "    fill: var(--fill-color);\n",
              "    height: 32px;\n",
              "    padding: 0;\n",
              "    width: 32px;\n",
              "  }\n",
              "\n",
              "  .colab-df-quickchart:hover {\n",
              "    background-color: var(--hover-bg-color);\n",
              "    box-shadow: 0 1px 2px rgba(60, 64, 67, 0.3), 0 1px 3px 1px rgba(60, 64, 67, 0.15);\n",
              "    fill: var(--button-hover-fill-color);\n",
              "  }\n",
              "\n",
              "  .colab-df-quickchart-complete:disabled,\n",
              "  .colab-df-quickchart-complete:disabled:hover {\n",
              "    background-color: var(--disabled-bg-color);\n",
              "    fill: var(--disabled-fill-color);\n",
              "    box-shadow: none;\n",
              "  }\n",
              "\n",
              "  .colab-df-spinner {\n",
              "    border: 2px solid var(--fill-color);\n",
              "    border-color: transparent;\n",
              "    border-bottom-color: var(--fill-color);\n",
              "    animation:\n",
              "      spin 1s steps(1) infinite;\n",
              "  }\n",
              "\n",
              "  @keyframes spin {\n",
              "    0% {\n",
              "      border-color: transparent;\n",
              "      border-bottom-color: var(--fill-color);\n",
              "      border-left-color: var(--fill-color);\n",
              "    }\n",
              "    20% {\n",
              "      border-color: transparent;\n",
              "      border-left-color: var(--fill-color);\n",
              "      border-top-color: var(--fill-color);\n",
              "    }\n",
              "    30% {\n",
              "      border-color: transparent;\n",
              "      border-left-color: var(--fill-color);\n",
              "      border-top-color: var(--fill-color);\n",
              "      border-right-color: var(--fill-color);\n",
              "    }\n",
              "    40% {\n",
              "      border-color: transparent;\n",
              "      border-right-color: var(--fill-color);\n",
              "      border-top-color: var(--fill-color);\n",
              "    }\n",
              "    60% {\n",
              "      border-color: transparent;\n",
              "      border-right-color: var(--fill-color);\n",
              "    }\n",
              "    80% {\n",
              "      border-color: transparent;\n",
              "      border-right-color: var(--fill-color);\n",
              "      border-bottom-color: var(--fill-color);\n",
              "    }\n",
              "    90% {\n",
              "      border-color: transparent;\n",
              "      border-bottom-color: var(--fill-color);\n",
              "    }\n",
              "  }\n",
              "</style>\n",
              "\n",
              "  <script>\n",
              "    async function quickchart(key) {\n",
              "      const quickchartButtonEl =\n",
              "        document.querySelector('#' + key + ' button');\n",
              "      quickchartButtonEl.disabled = true;  // To prevent multiple clicks.\n",
              "      quickchartButtonEl.classList.add('colab-df-spinner');\n",
              "      try {\n",
              "        const charts = await google.colab.kernel.invokeFunction(\n",
              "            'suggestCharts', [key], {});\n",
              "      } catch (error) {\n",
              "        console.error('Error during call to suggestCharts:', error);\n",
              "      }\n",
              "      quickchartButtonEl.classList.remove('colab-df-spinner');\n",
              "      quickchartButtonEl.classList.add('colab-df-quickchart-complete');\n",
              "    }\n",
              "    (() => {\n",
              "      let quickchartButtonEl =\n",
              "        document.querySelector('#df-ac1a1f6c-556e-4f68-988f-8ff28e5c440f button');\n",
              "      quickchartButtonEl.style.display =\n",
              "        google.colab.kernel.accessAllowed ? 'block' : 'none';\n",
              "    })();\n",
              "  </script>\n",
              "</div>\n",
              "\n",
              "    </div>\n",
              "  </div>\n"
            ],
            "application/vnd.google.colaboratory.intrinsic+json": {
              "type": "dataframe",
              "variable_name": "datacacao",
              "summary": "{\n  \"name\": \"datacacao\",\n  \"rows\": 1795,\n  \"fields\": [\n    {\n      \"column\": \"Company\",\n      \"properties\": {\n        \"dtype\": \"category\",\n        \"num_unique_values\": 416,\n        \"samples\": [\n          \"Forteza (Cortes)\",\n          \"Olive and Sinclair\",\n          \"Xocolat\"\n        ],\n        \"semantic_type\": \"\",\n        \"description\": \"\"\n      }\n    },\n    {\n      \"column\": \"Specific Bean Origin or Bar Name\",\n      \"properties\": {\n        \"dtype\": \"string\",\n        \"num_unique_values\": 1039,\n        \"samples\": [\n          \"Maya Mtn., Break Bar- Snark\",\n          \"Maranon, Cajamarca\",\n          \"Zorzal Reserva, 2015 H., Kerchner\"\n        ],\n        \"semantic_type\": \"\",\n        \"description\": \"\"\n      }\n    },\n    {\n      \"column\": \"REF\",\n      \"properties\": {\n        \"dtype\": \"number\",\n        \"std\": 552,\n        \"min\": 5,\n        \"max\": 1952,\n        \"num_unique_values\": 440,\n        \"samples\": [\n          135,\n          995,\n          1363\n        ],\n        \"semantic_type\": \"\",\n        \"description\": \"\"\n      }\n    },\n    {\n      \"column\": \"Review Date\",\n      \"properties\": {\n        \"dtype\": \"number\",\n        \"std\": 2,\n        \"min\": 2006,\n        \"max\": 2017,\n        \"num_unique_values\": 12,\n        \"samples\": [\n          2007,\n          2008,\n          2016\n        ],\n        \"semantic_type\": \"\",\n        \"description\": \"\"\n      }\n    },\n    {\n      \"column\": \"Cocoa Percent\",\n      \"properties\": {\n        \"dtype\": \"category\",\n        \"num_unique_values\": 45,\n        \"samples\": [\n          \"46%\",\n          \"69%\",\n          \"91%\"\n        ],\n        \"semantic_type\": \"\",\n        \"description\": \"\"\n      }\n    },\n    {\n      \"column\": \"Company Location\",\n      \"properties\": {\n        \"dtype\": \"category\",\n        \"num_unique_values\": 60,\n        \"samples\": [\n          \"France\",\n          \"Switzerland\",\n          \"Denmark\"\n        ],\n        \"semantic_type\": \"\",\n        \"description\": \"\"\n      }\n    },\n    {\n      \"column\": \"Rating\",\n      \"properties\": {\n        \"dtype\": \"number\",\n        \"std\": 0.4780623935863263,\n        \"min\": 1.0,\n        \"max\": 5.0,\n        \"num_unique_values\": 13,\n        \"samples\": [\n          2.0,\n          1.5,\n          3.75\n        ],\n        \"semantic_type\": \"\",\n        \"description\": \"\"\n      }\n    },\n    {\n      \"column\": \"Bean Type\",\n      \"properties\": {\n        \"dtype\": \"category\",\n        \"num_unique_values\": 41,\n        \"samples\": [\n          \"Criollo, +\",\n          \"CCN51\",\n          \"Blend\"\n        ],\n        \"semantic_type\": \"\",\n        \"description\": \"\"\n      }\n    },\n    {\n      \"column\": \"Broad Bean Origin\",\n      \"properties\": {\n        \"dtype\": \"category\",\n        \"num_unique_values\": 100,\n        \"samples\": [\n          \"Ven., Trinidad, Mad.\",\n          \"Venezuela, Trinidad\",\n          \"El Salvador\"\n        ],\n        \"semantic_type\": \"\",\n        \"description\": \"\"\n      }\n    }\n  ]\n}"
            }
          },
          "metadata": {},
          "execution_count": 62
        }
      ]
    },
    {
      "cell_type": "markdown",
      "source": [
        "**Elimina valores nulos**"
      ],
      "metadata": {
        "id": "ug1FylL1Cn5c"
      }
    },
    {
      "cell_type": "code",
      "source": [
        "# Eliminamos filas con valores nulos en las columnas 'Broad Bean Origin' y 'Rating'\n",
        "datacacao = datacacao.dropna(subset=['Broad Bean Origin', 'Rating'])\n",
        "\n",
        "# Verificamos que los valores nulos hayan sido eliminados\n",
        "datacacao.head()"
      ],
      "metadata": {
        "colab": {
          "base_uri": "https://localhost:8080/",
          "height": 206
        },
        "id": "BJZ1pIAUCju2",
        "outputId": "250c0150-6fb5-4f42-89e7-633e853657b4"
      },
      "execution_count": null,
      "outputs": [
        {
          "output_type": "execute_result",
          "data": {
            "text/plain": [
              "    Company Specific Bean Origin or Bar Name   REF  Review Date Cocoa Percent  \\\n",
              "0  A. Morin                      Agua Grande  1876         2016           63%   \n",
              "1  A. Morin                            Kpime  1676         2015           70%   \n",
              "2  A. Morin                           Atsane  1676         2015           70%   \n",
              "3  A. Morin                            Akata  1680         2015           70%   \n",
              "4  A. Morin                           Quilla  1704         2015           70%   \n",
              "\n",
              "  Company Location  Rating Bean Type Broad Bean Origin  \n",
              "0           France    3.75                    Sao Tome  \n",
              "1           France    2.75                        Togo  \n",
              "2           France    3.00                        Togo  \n",
              "3           France    3.50                        Togo  \n",
              "4           France    3.50                        Peru  "
            ],
            "text/html": [
              "\n",
              "  <div id=\"df-5294eaa3-c25c-4cbe-9659-262fee3e8fd7\" class=\"colab-df-container\">\n",
              "    <div>\n",
              "<style scoped>\n",
              "    .dataframe tbody tr th:only-of-type {\n",
              "        vertical-align: middle;\n",
              "    }\n",
              "\n",
              "    .dataframe tbody tr th {\n",
              "        vertical-align: top;\n",
              "    }\n",
              "\n",
              "    .dataframe thead th {\n",
              "        text-align: right;\n",
              "    }\n",
              "</style>\n",
              "<table border=\"1\" class=\"dataframe\">\n",
              "  <thead>\n",
              "    <tr style=\"text-align: right;\">\n",
              "      <th></th>\n",
              "      <th>Company</th>\n",
              "      <th>Specific Bean Origin or Bar Name</th>\n",
              "      <th>REF</th>\n",
              "      <th>Review Date</th>\n",
              "      <th>Cocoa Percent</th>\n",
              "      <th>Company Location</th>\n",
              "      <th>Rating</th>\n",
              "      <th>Bean Type</th>\n",
              "      <th>Broad Bean Origin</th>\n",
              "    </tr>\n",
              "  </thead>\n",
              "  <tbody>\n",
              "    <tr>\n",
              "      <th>0</th>\n",
              "      <td>A. Morin</td>\n",
              "      <td>Agua Grande</td>\n",
              "      <td>1876</td>\n",
              "      <td>2016</td>\n",
              "      <td>63%</td>\n",
              "      <td>France</td>\n",
              "      <td>3.75</td>\n",
              "      <td></td>\n",
              "      <td>Sao Tome</td>\n",
              "    </tr>\n",
              "    <tr>\n",
              "      <th>1</th>\n",
              "      <td>A. Morin</td>\n",
              "      <td>Kpime</td>\n",
              "      <td>1676</td>\n",
              "      <td>2015</td>\n",
              "      <td>70%</td>\n",
              "      <td>France</td>\n",
              "      <td>2.75</td>\n",
              "      <td></td>\n",
              "      <td>Togo</td>\n",
              "    </tr>\n",
              "    <tr>\n",
              "      <th>2</th>\n",
              "      <td>A. Morin</td>\n",
              "      <td>Atsane</td>\n",
              "      <td>1676</td>\n",
              "      <td>2015</td>\n",
              "      <td>70%</td>\n",
              "      <td>France</td>\n",
              "      <td>3.00</td>\n",
              "      <td></td>\n",
              "      <td>Togo</td>\n",
              "    </tr>\n",
              "    <tr>\n",
              "      <th>3</th>\n",
              "      <td>A. Morin</td>\n",
              "      <td>Akata</td>\n",
              "      <td>1680</td>\n",
              "      <td>2015</td>\n",
              "      <td>70%</td>\n",
              "      <td>France</td>\n",
              "      <td>3.50</td>\n",
              "      <td></td>\n",
              "      <td>Togo</td>\n",
              "    </tr>\n",
              "    <tr>\n",
              "      <th>4</th>\n",
              "      <td>A. Morin</td>\n",
              "      <td>Quilla</td>\n",
              "      <td>1704</td>\n",
              "      <td>2015</td>\n",
              "      <td>70%</td>\n",
              "      <td>France</td>\n",
              "      <td>3.50</td>\n",
              "      <td></td>\n",
              "      <td>Peru</td>\n",
              "    </tr>\n",
              "  </tbody>\n",
              "</table>\n",
              "</div>\n",
              "    <div class=\"colab-df-buttons\">\n",
              "\n",
              "  <div class=\"colab-df-container\">\n",
              "    <button class=\"colab-df-convert\" onclick=\"convertToInteractive('df-5294eaa3-c25c-4cbe-9659-262fee3e8fd7')\"\n",
              "            title=\"Convert this dataframe to an interactive table.\"\n",
              "            style=\"display:none;\">\n",
              "\n",
              "  <svg xmlns=\"http://www.w3.org/2000/svg\" height=\"24px\" viewBox=\"0 -960 960 960\">\n",
              "    <path d=\"M120-120v-720h720v720H120Zm60-500h600v-160H180v160Zm220 220h160v-160H400v160Zm0 220h160v-160H400v160ZM180-400h160v-160H180v160Zm440 0h160v-160H620v160ZM180-180h160v-160H180v160Zm440 0h160v-160H620v160Z\"/>\n",
              "  </svg>\n",
              "    </button>\n",
              "\n",
              "  <style>\n",
              "    .colab-df-container {\n",
              "      display:flex;\n",
              "      gap: 12px;\n",
              "    }\n",
              "\n",
              "    .colab-df-convert {\n",
              "      background-color: #E8F0FE;\n",
              "      border: none;\n",
              "      border-radius: 50%;\n",
              "      cursor: pointer;\n",
              "      display: none;\n",
              "      fill: #1967D2;\n",
              "      height: 32px;\n",
              "      padding: 0 0 0 0;\n",
              "      width: 32px;\n",
              "    }\n",
              "\n",
              "    .colab-df-convert:hover {\n",
              "      background-color: #E2EBFA;\n",
              "      box-shadow: 0px 1px 2px rgba(60, 64, 67, 0.3), 0px 1px 3px 1px rgba(60, 64, 67, 0.15);\n",
              "      fill: #174EA6;\n",
              "    }\n",
              "\n",
              "    .colab-df-buttons div {\n",
              "      margin-bottom: 4px;\n",
              "    }\n",
              "\n",
              "    [theme=dark] .colab-df-convert {\n",
              "      background-color: #3B4455;\n",
              "      fill: #D2E3FC;\n",
              "    }\n",
              "\n",
              "    [theme=dark] .colab-df-convert:hover {\n",
              "      background-color: #434B5C;\n",
              "      box-shadow: 0px 1px 3px 1px rgba(0, 0, 0, 0.15);\n",
              "      filter: drop-shadow(0px 1px 2px rgba(0, 0, 0, 0.3));\n",
              "      fill: #FFFFFF;\n",
              "    }\n",
              "  </style>\n",
              "\n",
              "    <script>\n",
              "      const buttonEl =\n",
              "        document.querySelector('#df-5294eaa3-c25c-4cbe-9659-262fee3e8fd7 button.colab-df-convert');\n",
              "      buttonEl.style.display =\n",
              "        google.colab.kernel.accessAllowed ? 'block' : 'none';\n",
              "\n",
              "      async function convertToInteractive(key) {\n",
              "        const element = document.querySelector('#df-5294eaa3-c25c-4cbe-9659-262fee3e8fd7');\n",
              "        const dataTable =\n",
              "          await google.colab.kernel.invokeFunction('convertToInteractive',\n",
              "                                                    [key], {});\n",
              "        if (!dataTable) return;\n",
              "\n",
              "        const docLinkHtml = 'Like what you see? Visit the ' +\n",
              "          '<a target=\"_blank\" href=https://colab.research.google.com/notebooks/data_table.ipynb>data table notebook</a>'\n",
              "          + ' to learn more about interactive tables.';\n",
              "        element.innerHTML = '';\n",
              "        dataTable['output_type'] = 'display_data';\n",
              "        await google.colab.output.renderOutput(dataTable, element);\n",
              "        const docLink = document.createElement('div');\n",
              "        docLink.innerHTML = docLinkHtml;\n",
              "        element.appendChild(docLink);\n",
              "      }\n",
              "    </script>\n",
              "  </div>\n",
              "\n",
              "\n",
              "<div id=\"df-5dc9df79-1eb3-481f-830e-ae4d80a134d5\">\n",
              "  <button class=\"colab-df-quickchart\" onclick=\"quickchart('df-5dc9df79-1eb3-481f-830e-ae4d80a134d5')\"\n",
              "            title=\"Suggest charts\"\n",
              "            style=\"display:none;\">\n",
              "\n",
              "<svg xmlns=\"http://www.w3.org/2000/svg\" height=\"24px\"viewBox=\"0 0 24 24\"\n",
              "     width=\"24px\">\n",
              "    <g>\n",
              "        <path d=\"M19 3H5c-1.1 0-2 .9-2 2v14c0 1.1.9 2 2 2h14c1.1 0 2-.9 2-2V5c0-1.1-.9-2-2-2zM9 17H7v-7h2v7zm4 0h-2V7h2v10zm4 0h-2v-4h2v4z\"/>\n",
              "    </g>\n",
              "</svg>\n",
              "  </button>\n",
              "\n",
              "<style>\n",
              "  .colab-df-quickchart {\n",
              "      --bg-color: #E8F0FE;\n",
              "      --fill-color: #1967D2;\n",
              "      --hover-bg-color: #E2EBFA;\n",
              "      --hover-fill-color: #174EA6;\n",
              "      --disabled-fill-color: #AAA;\n",
              "      --disabled-bg-color: #DDD;\n",
              "  }\n",
              "\n",
              "  [theme=dark] .colab-df-quickchart {\n",
              "      --bg-color: #3B4455;\n",
              "      --fill-color: #D2E3FC;\n",
              "      --hover-bg-color: #434B5C;\n",
              "      --hover-fill-color: #FFFFFF;\n",
              "      --disabled-bg-color: #3B4455;\n",
              "      --disabled-fill-color: #666;\n",
              "  }\n",
              "\n",
              "  .colab-df-quickchart {\n",
              "    background-color: var(--bg-color);\n",
              "    border: none;\n",
              "    border-radius: 50%;\n",
              "    cursor: pointer;\n",
              "    display: none;\n",
              "    fill: var(--fill-color);\n",
              "    height: 32px;\n",
              "    padding: 0;\n",
              "    width: 32px;\n",
              "  }\n",
              "\n",
              "  .colab-df-quickchart:hover {\n",
              "    background-color: var(--hover-bg-color);\n",
              "    box-shadow: 0 1px 2px rgba(60, 64, 67, 0.3), 0 1px 3px 1px rgba(60, 64, 67, 0.15);\n",
              "    fill: var(--button-hover-fill-color);\n",
              "  }\n",
              "\n",
              "  .colab-df-quickchart-complete:disabled,\n",
              "  .colab-df-quickchart-complete:disabled:hover {\n",
              "    background-color: var(--disabled-bg-color);\n",
              "    fill: var(--disabled-fill-color);\n",
              "    box-shadow: none;\n",
              "  }\n",
              "\n",
              "  .colab-df-spinner {\n",
              "    border: 2px solid var(--fill-color);\n",
              "    border-color: transparent;\n",
              "    border-bottom-color: var(--fill-color);\n",
              "    animation:\n",
              "      spin 1s steps(1) infinite;\n",
              "  }\n",
              "\n",
              "  @keyframes spin {\n",
              "    0% {\n",
              "      border-color: transparent;\n",
              "      border-bottom-color: var(--fill-color);\n",
              "      border-left-color: var(--fill-color);\n",
              "    }\n",
              "    20% {\n",
              "      border-color: transparent;\n",
              "      border-left-color: var(--fill-color);\n",
              "      border-top-color: var(--fill-color);\n",
              "    }\n",
              "    30% {\n",
              "      border-color: transparent;\n",
              "      border-left-color: var(--fill-color);\n",
              "      border-top-color: var(--fill-color);\n",
              "      border-right-color: var(--fill-color);\n",
              "    }\n",
              "    40% {\n",
              "      border-color: transparent;\n",
              "      border-right-color: var(--fill-color);\n",
              "      border-top-color: var(--fill-color);\n",
              "    }\n",
              "    60% {\n",
              "      border-color: transparent;\n",
              "      border-right-color: var(--fill-color);\n",
              "    }\n",
              "    80% {\n",
              "      border-color: transparent;\n",
              "      border-right-color: var(--fill-color);\n",
              "      border-bottom-color: var(--fill-color);\n",
              "    }\n",
              "    90% {\n",
              "      border-color: transparent;\n",
              "      border-bottom-color: var(--fill-color);\n",
              "    }\n",
              "  }\n",
              "</style>\n",
              "\n",
              "  <script>\n",
              "    async function quickchart(key) {\n",
              "      const quickchartButtonEl =\n",
              "        document.querySelector('#' + key + ' button');\n",
              "      quickchartButtonEl.disabled = true;  // To prevent multiple clicks.\n",
              "      quickchartButtonEl.classList.add('colab-df-spinner');\n",
              "      try {\n",
              "        const charts = await google.colab.kernel.invokeFunction(\n",
              "            'suggestCharts', [key], {});\n",
              "      } catch (error) {\n",
              "        console.error('Error during call to suggestCharts:', error);\n",
              "      }\n",
              "      quickchartButtonEl.classList.remove('colab-df-spinner');\n",
              "      quickchartButtonEl.classList.add('colab-df-quickchart-complete');\n",
              "    }\n",
              "    (() => {\n",
              "      let quickchartButtonEl =\n",
              "        document.querySelector('#df-5dc9df79-1eb3-481f-830e-ae4d80a134d5 button');\n",
              "      quickchartButtonEl.style.display =\n",
              "        google.colab.kernel.accessAllowed ? 'block' : 'none';\n",
              "    })();\n",
              "  </script>\n",
              "</div>\n",
              "\n",
              "    </div>\n",
              "  </div>\n"
            ],
            "application/vnd.google.colaboratory.intrinsic+json": {
              "type": "dataframe",
              "variable_name": "datacacao",
              "summary": "{\n  \"name\": \"datacacao\",\n  \"rows\": 1794,\n  \"fields\": [\n    {\n      \"column\": \"Company\",\n      \"properties\": {\n        \"dtype\": \"category\",\n        \"num_unique_values\": 416,\n        \"samples\": [\n          \"Forteza (Cortes)\",\n          \"Olive and Sinclair\",\n          \"Xocolat\"\n        ],\n        \"semantic_type\": \"\",\n        \"description\": \"\"\n      }\n    },\n    {\n      \"column\": \"Specific Bean Origin or Bar Name\",\n      \"properties\": {\n        \"dtype\": \"string\",\n        \"num_unique_values\": 1039,\n        \"samples\": [\n          \"Maya Mtn., Break Bar- Snark\",\n          \"Maranon, Cajamarca\",\n          \"Zorzal Reserva, 2015 H., Kerchner\"\n        ],\n        \"semantic_type\": \"\",\n        \"description\": \"\"\n      }\n    },\n    {\n      \"column\": \"REF\",\n      \"properties\": {\n        \"dtype\": \"number\",\n        \"std\": 553,\n        \"min\": 5,\n        \"max\": 1952,\n        \"num_unique_values\": 440,\n        \"samples\": [\n          135,\n          995,\n          1363\n        ],\n        \"semantic_type\": \"\",\n        \"description\": \"\"\n      }\n    },\n    {\n      \"column\": \"Review Date\",\n      \"properties\": {\n        \"dtype\": \"number\",\n        \"std\": 2,\n        \"min\": 2006,\n        \"max\": 2017,\n        \"num_unique_values\": 12,\n        \"samples\": [\n          2007,\n          2008,\n          2016\n        ],\n        \"semantic_type\": \"\",\n        \"description\": \"\"\n      }\n    },\n    {\n      \"column\": \"Cocoa Percent\",\n      \"properties\": {\n        \"dtype\": \"category\",\n        \"num_unique_values\": 45,\n        \"samples\": [\n          \"46%\",\n          \"69%\",\n          \"91%\"\n        ],\n        \"semantic_type\": \"\",\n        \"description\": \"\"\n      }\n    },\n    {\n      \"column\": \"Company Location\",\n      \"properties\": {\n        \"dtype\": \"category\",\n        \"num_unique_values\": 60,\n        \"samples\": [\n          \"France\",\n          \"Switzerland\",\n          \"Denmark\"\n        ],\n        \"semantic_type\": \"\",\n        \"description\": \"\"\n      }\n    },\n    {\n      \"column\": \"Rating\",\n      \"properties\": {\n        \"dtype\": \"number\",\n        \"std\": 0.47792107980459747,\n        \"min\": 1.0,\n        \"max\": 5.0,\n        \"num_unique_values\": 13,\n        \"samples\": [\n          2.0,\n          1.5,\n          3.75\n        ],\n        \"semantic_type\": \"\",\n        \"description\": \"\"\n      }\n    },\n    {\n      \"column\": \"Bean Type\",\n      \"properties\": {\n        \"dtype\": \"category\",\n        \"num_unique_values\": 41,\n        \"samples\": [\n          \"Criollo, +\",\n          \"CCN51\",\n          \"Blend\"\n        ],\n        \"semantic_type\": \"\",\n        \"description\": \"\"\n      }\n    },\n    {\n      \"column\": \"Broad Bean Origin\",\n      \"properties\": {\n        \"dtype\": \"category\",\n        \"num_unique_values\": 100,\n        \"samples\": [\n          \"Ven., Trinidad, Mad.\",\n          \"Venezuela, Trinidad\",\n          \"El Salvador\"\n        ],\n        \"semantic_type\": \"\",\n        \"description\": \"\"\n      }\n    }\n  ]\n}"
            }
          },
          "metadata": {},
          "execution_count": 63
        }
      ]
    },
    {
      "cell_type": "markdown",
      "source": [
        "Convierte 'Cocoa Percent' a tipo numérico con astype(float)."
      ],
      "metadata": {
        "id": "Sxg2MoZfC7bV"
      }
    },
    {
      "cell_type": "code",
      "source": [
        "datacacao['Cocoa Percent'] = datacacao['Cocoa Percent'].replace('[\\%,]', '', regex=True).astype(float)"
      ],
      "metadata": {
        "id": "6p-C9mrYC6vo",
        "colab": {
          "base_uri": "https://localhost:8080/"
        },
        "outputId": "dedae523-bfd4-4c95-d4ea-3680e4b0b342"
      },
      "execution_count": null,
      "outputs": [
        {
          "output_type": "stream",
          "name": "stderr",
          "text": [
            "<ipython-input-64-aafc07575f84>:1: SettingWithCopyWarning: \n",
            "A value is trying to be set on a copy of a slice from a DataFrame.\n",
            "Try using .loc[row_indexer,col_indexer] = value instead\n",
            "\n",
            "See the caveats in the documentation: https://pandas.pydata.org/pandas-docs/stable/user_guide/indexing.html#returning-a-view-versus-a-copy\n",
            "  datacacao['Cocoa Percent'] = datacacao['Cocoa Percent'].replace('[\\%,]', '', regex=True).astype(float)\n"
          ]
        }
      ]
    },
    {
      "cell_type": "markdown",
      "source": [
        "Filtra los países de interés en 'Broad Bean Origin' por la alta cardinalidad de origenes solo usar lo siguientes: selected_origins = ['Mexico', 'Colombia', 'Ghana', 'Nigeria', 'Cameroon', 'Madagascar', 'Togo', 'Uganda', 'Sierra Leone']"
      ],
      "metadata": {
        "id": "updgYghKhA4W"
      }
    },
    {
      "cell_type": "code",
      "source": [
        "selected_origins = ['Mexico', 'Colombia', 'Ghana', 'Nigeria', 'Cameroon', 'Madagascar', 'Togo', 'Uganda', 'Sierra Leone']\n",
        "datacacao = datacacao[datacacao['Broad Bean Origin'].isin(selected_origins)]"
      ],
      "metadata": {
        "id": "Qw3lJSAphDma"
      },
      "execution_count": null,
      "outputs": []
    },
    {
      "cell_type": "markdown",
      "source": [
        "**ANALISIS EXPLORATORIO DE DATOS**"
      ],
      "metadata": {
        "id": "WVwa3J3wiR3a"
      }
    },
    {
      "cell_type": "markdown",
      "source": [
        "Visualiza las distribuciones de 'Rating' por origen con sns.boxplot() y sns.violinplot()"
      ],
      "metadata": {
        "id": "Bs3r9kOViV1P"
      }
    },
    {
      "cell_type": "code",
      "source": [
        "#Boxplot\n",
        "plt.subplot(1, 1, 1)\n",
        "sns.boxplot(x='Broad Bean Origin', y='Rating', data=datacacao)\n",
        "plt.xticks(rotation=90)\n",
        "plt.title('Distribución de Rating por Origen (Boxplot)')\n"
      ],
      "metadata": {
        "colab": {
          "base_uri": "https://localhost:8080/",
          "height": 560
        },
        "id": "Il4vY_cBiTVG",
        "outputId": "a72a50bb-73e5-4437-fbde-ff2fdc7a2461"
      },
      "execution_count": null,
      "outputs": [
        {
          "output_type": "execute_result",
          "data": {
            "text/plain": [
              "Text(0.5, 1.0, 'Distribución de Rating por Origen (Boxplot)')"
            ]
          },
          "metadata": {},
          "execution_count": 66
        },
        {
          "output_type": "display_data",
          "data": {
            "text/plain": [
              "<Figure size 640x480 with 1 Axes>"
            ],
            "image/png": "[encoded data removed]"
          },
          "metadata": {}
        }
      ]
    },
    {
      "cell_type": "code",
      "source": [
        "#violinplot\n",
        "plt.subplot(1, 1, 1)\n",
        "sns.violinplot(x='Broad Bean Origin', y='Rating', data=datacacao)\n",
        "plt.xticks(rotation=90)\n",
        "plt.title('Distribución de Rating por Origen (Violinplot)')\n"
      ],
      "metadata": {
        "colab": {
          "base_uri": "https://localhost:8080/",
          "height": 560
        },
        "id": "B9gCNayrkB5z",
        "outputId": "071b9e87-a58a-4431-fa44-72f0149f73a2"
      },
      "execution_count": null,
      "outputs": [
        {
          "output_type": "execute_result",
          "data": {
            "text/plain": [
              "Text(0.5, 1.0, 'Distribución de Rating por Origen (Violinplot)')"
            ]
          },
          "metadata": {},
          "execution_count": 67
        },
        {
          "output_type": "display_data",
          "data": {
            "text/plain": [
              "<Figure size 640x480 with 1 Axes>"
            ],
            "image/png": "[encoded data removed]"
          },
          "metadata": {}
        }
      ]
    },
    {
      "cell_type": "markdown",
      "source": [
        "**PRUEBAS DE SUPUESTOS**"
      ],
      "metadata": {
        "id": "cdGIUHfUkVMO"
      }
    },
    {
      "cell_type": "markdown",
      "source": [
        "Prueba la normalidad por grupo usando shapiro()."
      ],
      "metadata": {
        "id": "E72R0kb4kaD_"
      }
    },
    {
      "cell_type": "code",
      "source": [
        "#Aplicar la prueba de Shapiro-Wilk para normalidad\n",
        "print(\"Prueba de Shapiro-Wilk para Normalidad:\")\n",
        "shapiro_test = shapiro(datacacao['Rating'])\n",
        "print(f\"Estadístico de prueba: {shapiro_test.statistic:.4f}\")\n",
        "print(f\"Valor p: {shapiro_test.pvalue:.4f}\")\n",
        "\n",
        "# Interpretación\n",
        "alpha = 0.05\n",
        "if shapiro_test.pvalue > alpha:\n",
        "    print(f\"Resultado: No se rechaza la hipótesis nula (p > {alpha}). Los datos siguen una distribución normal.\\n\")\n",
        "else:\n",
        "    print(f\"Resultado: Se rechaza la hipótesis nula (p <= {alpha}). Los datos no siguen una distribución normal.\\n\")"
      ],
      "metadata": {
        "colab": {
          "base_uri": "https://localhost:8080/"
        },
        "id": "Sj1CUsk-kcHh",
        "outputId": "391d2e91-8f80-41c6-b530-aaeddf4dcd8f"
      },
      "execution_count": null,
      "outputs": [
        {
          "output_type": "stream",
          "name": "stdout",
          "text": [
            "Prueba de Shapiro-Wilk para Normalidad:\n",
            "Estadístico de prueba: 0.9533\n",
            "Valor p: 0.0000\n",
            "Resultado: Se rechaza la hipótesis nula (p <= 0.05). Los datos no siguen una distribución normal.\n",
            "\n"
          ]
        }
      ]
    },
    {
      "cell_type": "markdown",
      "source": [
        "Realiza el test de Levene para homogeneidad de varianzas con levene()."
      ],
      "metadata": {
        "id": "lx4KmiYHk1E-"
      }
    },
    {
      "cell_type": "code",
      "source": [
        "# Agrupar los datos por especie\n",
        "groups = [group[\"Rating\"].values for name, group in datacacao.groupby(\"Broad Bean Origin\")]\n",
        "\n",
        "# Aplicar la prueba de Levene para homogeneidad de varianzas\n",
        "levene_test = levene(*groups, center='median')\n",
        "print(\"Prueba de Levene para Homogeneidad de Varianzas:\")\n",
        "print(f\"Estadístico de prueba: {levene_test.statistic:.4f}\")\n",
        "print(f\"Valor p: {levene_test.pvalue:.4f}\")\n",
        "\n",
        "# Interpretación\n",
        "if levene_test.pvalue > alpha:\n",
        "    print(f\"Resultado: No se rechaza la hipótesis nula (p > {alpha}). Las varianzas son homogéneas.\\n\")\n",
        "else:\n",
        "    print(f\"Resultado: Se rechaza la hipótesis nula (p <= {alpha}). Las varianzas no son homogéneas.\\n\")"
      ],
      "metadata": {
        "colab": {
          "base_uri": "https://localhost:8080/"
        },
        "id": "-JxJe0Jbk1aY",
        "outputId": "2b8c4d61-c3e0-417f-b11e-d6c0ccfc60a5"
      },
      "execution_count": null,
      "outputs": [
        {
          "output_type": "stream",
          "name": "stdout",
          "text": [
            "Prueba de Levene para Homogeneidad de Varianzas:\n",
            "Estadístico de prueba: 1.1429\n",
            "Valor p: 0.3367\n",
            "Resultado: No se rechaza la hipótesis nula (p > 0.05). Las varianzas son homogéneas.\n",
            "\n"
          ]
        }
      ]
    },
    {
      "cell_type": "markdown",
      "source": [
        "**ANALISIS ANOVA**"
      ],
      "metadata": {
        "id": "dxwaGoYqmhTl"
      }
    },
    {
      "cell_type": "markdown",
      "source": [
        "Interpreta el valor p de ANOVA para verificar diferencias significativas."
      ],
      "metadata": {
        "id": "ZLBKxmY8d2BI"
      }
    },
    {
      "cell_type": "code",
      "source": [
        "from scipy.stats import f_oneway\n",
        "\n",
        "# Aplicar ANOVA de una vía\n",
        "f_value, p_value = f_oneway(*groups)\n",
        "print(\"Resultados ANOVA (SciPy):\")\n",
        "print(f\"Estadístico F: {f_value:.4f}\")\n",
        "print(f\"Valor p: {p_value:.4f}\")\n",
        "\n",
        "# Interpretación\n",
        "if p_value < alpha:\n",
        "    print(f\"Resultado: Se rechaza la hipótesis nula (p < {alpha}). Existen diferencias significativas entre las medias de las especies.\\n\")\n",
        "else:\n",
        "    print(f\"Resultado: No se rechaza la hipótesis nula (p >= {alpha}). No existen diferencias significativas entre las medias de las especies.\\n\")"
      ],
      "metadata": {
        "colab": {
          "base_uri": "https://localhost:8080/"
        },
        "id": "Bo9gXbuFZyWa",
        "outputId": "4cf44f69-59f8-4797-a620-25d577e0ca8c"
      },
      "execution_count": null,
      "outputs": [
        {
          "output_type": "stream",
          "name": "stdout",
          "text": [
            "Resultados ANOVA (SciPy):\n",
            "Estadístico F: 2.4220\n",
            "Valor p: 0.0204\n",
            "Resultado: Se rechaza la hipótesis nula (p < 0.05). Existen diferencias significativas entre las medias de las especies.\n",
            "\n"
          ]
        }
      ]
    },
    {
      "cell_type": "markdown",
      "source": [
        "Ajusta un modelo OLS con ols('Rating ~ C(Broad_Bean_Origin)') y realiza ANOVA con anova_lm()."
      ],
      "metadata": {
        "id": "8XY24DiYmkCw"
      }
    },
    {
      "cell_type": "code",
      "source": [
        "# Definir el modelo OLS\n",
        "modelo = ols('Rating ~ C(Q(\"Broad Bean Origin\"))', data=datacacao).fit()\n",
        "\n",
        "# Aplicar ANOVA\n",
        "anova_resultados = sm.stats.anova_lm(modelo, typ=2)\n",
        "print(\"Tabla ANOVA (Statsmodels):\")\n",
        "display(anova_resultados)\n",
        "\n",
        "# Resumen del modelo\n",
        "print(\"Resumen del Modelo OLS:\")\n",
        "print(modelo.summary())"
      ],
      "metadata": {
        "id": "L0sZggZJml78",
        "colab": {
          "base_uri": "https://localhost:8080/",
          "height": 698
        },
        "outputId": "2acc7036-2a7b-4874-cf43-af17ace1ac0b"
      },
      "execution_count": null,
      "outputs": [
        {
          "output_type": "stream",
          "name": "stdout",
          "text": [
            "Tabla ANOVA (Statsmodels):\n"
          ]
        },
        {
          "output_type": "display_data",
          "data": {
            "text/plain": [
              "                              sum_sq     df         F    PR(>F)\n",
              "C(Q(\"Broad Bean Origin\"))   3.370764    7.0  2.422015  0.020382\n",
              "Residual                   50.300692  253.0       NaN       NaN"
            ],
            "text/html": [
              "\n",
              "  <div id=\"df-c18adbb2-b28d-4f77-8036-98831091f0ba\" class=\"colab-df-container\">\n",
              "    <div>\n",
              "<style scoped>\n",
              "    .dataframe tbody tr th:only-of-type {\n",
              "        vertical-align: middle;\n",
              "    }\n",
              "\n",
              "    .dataframe tbody tr th {\n",
              "        vertical-align: top;\n",
              "    }\n",
              "\n",
              "    .dataframe thead th {\n",
              "        text-align: right;\n",
              "    }\n",
              "</style>\n",
              "<table border=\"1\" class=\"dataframe\">\n",
              "  <thead>\n",
              "    <tr style=\"text-align: right;\">\n",
              "      <th></th>\n",
              "      <th>sum_sq</th>\n",
              "      <th>df</th>\n",
              "      <th>F</th>\n",
              "      <th>PR(&gt;F)</th>\n",
              "    </tr>\n",
              "  </thead>\n",
              "  <tbody>\n",
              "    <tr>\n",
              "      <th>C(Q(\"Broad Bean Origin\"))</th>\n",
              "      <td>3.370764</td>\n",
              "      <td>7.0</td>\n",
              "      <td>2.422015</td>\n",
              "      <td>0.020382</td>\n",
              "    </tr>\n",
              "    <tr>\n",
              "      <th>Residual</th>\n",
              "      <td>50.300692</td>\n",
              "      <td>253.0</td>\n",
              "      <td>NaN</td>\n",
              "      <td>NaN</td>\n",
              "    </tr>\n",
              "  </tbody>\n",
              "</table>\n",
              "</div>\n",
              "    <div class=\"colab-df-buttons\">\n",
              "\n",
              "  <div class=\"colab-df-container\">\n",
              "    <button class=\"colab-df-convert\" onclick=\"convertToInteractive('df-c18adbb2-b28d-4f77-8036-98831091f0ba')\"\n",
              "            title=\"Convert this dataframe to an interactive table.\"\n",
              "            style=\"display:none;\">\n",
              "\n",
              "  <svg xmlns=\"http://www.w3.org/2000/svg\" height=\"24px\" viewBox=\"0 -960 960 960\">\n",
              "    <path d=\"M120-120v-720h720v720H120Zm60-500h600v-160H180v160Zm220 220h160v-160H400v160Zm0 220h160v-160H400v160ZM180-400h160v-160H180v160Zm440 0h160v-160H620v160ZM180-180h160v-160H180v160Zm440 0h160v-160H620v160Z\"/>\n",
              "  </svg>\n",
              "    </button>\n",
              "\n",
              "  <style>\n",
              "    .colab-df-container {\n",
              "      display:flex;\n",
              "      gap: 12px;\n",
              "    }\n",
              "\n",
              "    .colab-df-convert {\n",
              "      background-color: #E8F0FE;\n",
              "      border: none;\n",
              "      border-radius: 50%;\n",
              "      cursor: pointer;\n",
              "      display: none;\n",
              "      fill: #1967D2;\n",
              "      height: 32px;\n",
              "      padding: 0 0 0 0;\n",
              "      width: 32px;\n",
              "    }\n",
              "\n",
              "    .colab-df-convert:hover {\n",
              "      background-color: #E2EBFA;\n",
              "      box-shadow: 0px 1px 2px rgba(60, 64, 67, 0.3), 0px 1px 3px 1px rgba(60, 64, 67, 0.15);\n",
              "      fill: #174EA6;\n",
              "    }\n",
              "\n",
              "    .colab-df-buttons div {\n",
              "      margin-bottom: 4px;\n",
              "    }\n",
              "\n",
              "    [theme=dark] .colab-df-convert {\n",
              "      background-color: #3B4455;\n",
              "      fill: #D2E3FC;\n",
              "    }\n",
              "\n",
              "    [theme=dark] .colab-df-convert:hover {\n",
              "      background-color: #434B5C;\n",
              "      box-shadow: 0px 1px 3px 1px rgba(0, 0, 0, 0.15);\n",
              "      filter: drop-shadow(0px 1px 2px rgba(0, 0, 0, 0.3));\n",
              "      fill: #FFFFFF;\n",
              "    }\n",
              "  </style>\n",
              "\n",
              "    <script>\n",
              "      const buttonEl =\n",
              "        document.querySelector('#df-c18adbb2-b28d-4f77-8036-98831091f0ba button.colab-df-convert');\n",
              "      buttonEl.style.display =\n",
              "        google.colab.kernel.accessAllowed ? 'block' : 'none';\n",
              "\n",
              "      async function convertToInteractive(key) {\n",
              "        const element = document.querySelector('#df-c18adbb2-b28d-4f77-8036-98831091f0ba');\n",
              "        const dataTable =\n",
              "          await google.colab.kernel.invokeFunction('convertToInteractive',\n",
              "                                                    [key], {});\n",
              "        if (!dataTable) return;\n",
              "\n",
              "        const docLinkHtml = 'Like what you see? Visit the ' +\n",
              "          '<a target=\"_blank\" href=https://colab.research.google.com/notebooks/data_table.ipynb>data table notebook</a>'\n",
              "          + ' to learn more about interactive tables.';\n",
              "        element.innerHTML = '';\n",
              "        dataTable['output_type'] = 'display_data';\n",
              "        await google.colab.output.renderOutput(dataTable, element);\n",
              "        const docLink = document.createElement('div');\n",
              "        docLink.innerHTML = docLinkHtml;\n",
              "        element.appendChild(docLink);\n",
              "      }\n",
              "    </script>\n",
              "  </div>\n",
              "\n",
              "\n",
              "<div id=\"df-b511c270-3927-4879-b67e-6fd2575b7fcd\">\n",
              "  <button class=\"colab-df-quickchart\" onclick=\"quickchart('df-b511c270-3927-4879-b67e-6fd2575b7fcd')\"\n",
              "            title=\"Suggest charts\"\n",
              "            style=\"display:none;\">\n",
              "\n",
              "<svg xmlns=\"http://www.w3.org/2000/svg\" height=\"24px\"viewBox=\"0 0 24 24\"\n",
              "     width=\"24px\">\n",
              "    <g>\n",
              "        <path d=\"M19 3H5c-1.1 0-2 .9-2 2v14c0 1.1.9 2 2 2h14c1.1 0 2-.9 2-2V5c0-1.1-.9-2-2-2zM9 17H7v-7h2v7zm4 0h-2V7h2v10zm4 0h-2v-4h2v4z\"/>\n",
              "    </g>\n",
              "</svg>\n",
              "  </button>\n",
              "\n",
              "<style>\n",
              "  .colab-df-quickchart {\n",
              "      --bg-color: #E8F0FE;\n",
              "      --fill-color: #1967D2;\n",
              "      --hover-bg-color: #E2EBFA;\n",
              "      --hover-fill-color: #174EA6;\n",
              "      --disabled-fill-color: #AAA;\n",
              "      --disabled-bg-color: #DDD;\n",
              "  }\n",
              "\n",
              "  [theme=dark] .colab-df-quickchart {\n",
              "      --bg-color: #3B4455;\n",
              "      --fill-color: #D2E3FC;\n",
              "      --hover-bg-color: #434B5C;\n",
              "      --hover-fill-color: #FFFFFF;\n",
              "      --disabled-bg-color: #3B4455;\n",
              "      --disabled-fill-color: #666;\n",
              "  }\n",
              "\n",
              "  .colab-df-quickchart {\n",
              "    background-color: var(--bg-color);\n",
              "    border: none;\n",
              "    border-radius: 50%;\n",
              "    cursor: pointer;\n",
              "    display: none;\n",
              "    fill: var(--fill-color);\n",
              "    height: 32px;\n",
              "    padding: 0;\n",
              "    width: 32px;\n",
              "  }\n",
              "\n",
              "  .colab-df-quickchart:hover {\n",
              "    background-color: var(--hover-bg-color);\n",
              "    box-shadow: 0 1px 2px rgba(60, 64, 67, 0.3), 0 1px 3px 1px rgba(60, 64, 67, 0.15);\n",
              "    fill: var(--button-hover-fill-color);\n",
              "  }\n",
              "\n",
              "  .colab-df-quickchart-complete:disabled,\n",
              "  .colab-df-quickchart-complete:disabled:hover {\n",
              "    background-color: var(--disabled-bg-color);\n",
              "    fill: var(--disabled-fill-color);\n",
              "    box-shadow: none;\n",
              "  }\n",
              "\n",
              "  .colab-df-spinner {\n",
              "    border: 2px solid var(--fill-color);\n",
              "    border-color: transparent;\n",
              "    border-bottom-color: var(--fill-color);\n",
              "    animation:\n",
              "      spin 1s steps(1) infinite;\n",
              "  }\n",
              "\n",
              "  @keyframes spin {\n",
              "    0% {\n",
              "      border-color: transparent;\n",
              "      border-bottom-color: var(--fill-color);\n",
              "      border-left-color: var(--fill-color);\n",
              "    }\n",
              "    20% {\n",
              "      border-color: transparent;\n",
              "      border-left-color: var(--fill-color);\n",
              "      border-top-color: var(--fill-color);\n",
              "    }\n",
              "    30% {\n",
              "      border-color: transparent;\n",
              "      border-left-color: var(--fill-color);\n",
              "      border-top-color: var(--fill-color);\n",
              "      border-right-color: var(--fill-color);\n",
              "    }\n",
              "    40% {\n",
              "      border-color: transparent;\n",
              "      border-right-color: var(--fill-color);\n",
              "      border-top-color: var(--fill-color);\n",
              "    }\n",
              "    60% {\n",
              "      border-color: transparent;\n",
              "      border-right-color: var(--fill-color);\n",
              "    }\n",
              "    80% {\n",
              "      border-color: transparent;\n",
              "      border-right-color: var(--fill-color);\n",
              "      border-bottom-color: var(--fill-color);\n",
              "    }\n",
              "    90% {\n",
              "      border-color: transparent;\n",
              "      border-bottom-color: var(--fill-color);\n",
              "    }\n",
              "  }\n",
              "</style>\n",
              "\n",
              "  <script>\n",
              "    async function quickchart(key) {\n",
              "      const quickchartButtonEl =\n",
              "        document.querySelector('#' + key + ' button');\n",
              "      quickchartButtonEl.disabled = true;  // To prevent multiple clicks.\n",
              "      quickchartButtonEl.classList.add('colab-df-spinner');\n",
              "      try {\n",
              "        const charts = await google.colab.kernel.invokeFunction(\n",
              "            'suggestCharts', [key], {});\n",
              "      } catch (error) {\n",
              "        console.error('Error during call to suggestCharts:', error);\n",
              "      }\n",
              "      quickchartButtonEl.classList.remove('colab-df-spinner');\n",
              "      quickchartButtonEl.classList.add('colab-df-quickchart-complete');\n",
              "    }\n",
              "    (() => {\n",
              "      let quickchartButtonEl =\n",
              "        document.querySelector('#df-b511c270-3927-4879-b67e-6fd2575b7fcd button');\n",
              "      quickchartButtonEl.style.display =\n",
              "        google.colab.kernel.accessAllowed ? 'block' : 'none';\n",
              "    })();\n",
              "  </script>\n",
              "</div>\n",
              "\n",
              "  <div id=\"id_4c11fe2a-e2f8-4f0a-8e3a-98a2010380cd\">\n",
              "    <style>\n",
              "      .colab-df-generate {\n",
              "        background-color: #E8F0FE;\n",
              "        border: none;\n",
              "        border-radius: 50%;\n",
              "        cursor: pointer;\n",
              "        display: none;\n",
              "        fill: #1967D2;\n",
              "        height: 32px;\n",
              "        padding: 0 0 0 0;\n",
              "        width: 32px;\n",
              "      }\n",
              "\n",
              "      .colab-df-generate:hover {\n",
              "        background-color: #E2EBFA;\n",
              "        box-shadow: 0px 1px 2px rgba(60, 64, 67, 0.3), 0px 1px 3px 1px rgba(60, 64, 67, 0.15);\n",
              "        fill: #174EA6;\n",
              "      }\n",
              "\n",
              "      [theme=dark] .colab-df-generate {\n",
              "        background-color: #3B4455;\n",
              "        fill: #D2E3FC;\n",
              "      }\n",
              "\n",
              "      [theme=dark] .colab-df-generate:hover {\n",
              "        background-color: #434B5C;\n",
              "        box-shadow: 0px 1px 3px 1px rgba(0, 0, 0, 0.15);\n",
              "        filter: drop-shadow(0px 1px 2px rgba(0, 0, 0, 0.3));\n",
              "        fill: #FFFFFF;\n",
              "      }\n",
              "    </style>\n",
              "    <button class=\"colab-df-generate\" onclick=\"generateWithVariable('anova_resultados')\"\n",
              "            title=\"Generate code using this dataframe.\"\n",
              "            style=\"display:none;\">\n",
              "\n",
              "  <svg xmlns=\"http://www.w3.org/2000/svg\" height=\"24px\"viewBox=\"0 0 24 24\"\n",
              "       width=\"24px\">\n",
              "    <path d=\"M7,19H8.4L18.45,9,17,7.55,7,17.6ZM5,21V16.75L18.45,3.32a2,2,0,0,1,2.83,0l1.4,1.43a1.91,1.91,0,0,1,.58,1.4,1.91,1.91,0,0,1-.58,1.4L9.25,21ZM18.45,9,17,7.55Zm-12,3A5.31,5.31,0,0,0,4.9,8.1,5.31,5.31,0,0,0,1,6.5,5.31,5.31,0,0,0,4.9,4.9,5.31,5.31,0,0,0,6.5,1,5.31,5.31,0,0,0,8.1,4.9,5.31,5.31,0,0,0,12,6.5,5.46,5.46,0,0,0,6.5,12Z\"/>\n",
              "  </svg>\n",
              "    </button>\n",
              "    <script>\n",
              "      (() => {\n",
              "      const buttonEl =\n",
              "        document.querySelector('#id_4c11fe2a-e2f8-4f0a-8e3a-98a2010380cd button.colab-df-generate');\n",
              "      buttonEl.style.display =\n",
              "        google.colab.kernel.accessAllowed ? 'block' : 'none';\n",
              "\n",
              "      buttonEl.onclick = () => {\n",
              "        google.colab.notebook.generateWithVariable('anova_resultados');\n",
              "      }\n",
              "      })();\n",
              "    </script>\n",
              "  </div>\n",
              "\n",
              "    </div>\n",
              "  </div>\n"
            ],
            "application/vnd.google.colaboratory.intrinsic+json": {
              "type": "dataframe",
              "variable_name": "anova_resultados",
              "summary": "{\n  \"name\": \"anova_resultados\",\n  \"rows\": 2,\n  \"fields\": [\n    {\n      \"column\": \"sum_sq\",\n      \"properties\": {\n        \"dtype\": \"number\",\n        \"std\": 33.18447075104982,\n        \"min\": 3.370763671194672,\n        \"max\": 50.30069226750262,\n        \"num_unique_values\": 2,\n        \"samples\": [\n          50.30069226750262,\n          3.370763671194672\n        ],\n        \"semantic_type\": \"\",\n        \"description\": \"\"\n      }\n    },\n    {\n      \"column\": \"df\",\n      \"properties\": {\n        \"dtype\": \"number\",\n        \"std\": 173.9482681718907,\n        \"min\": 7.0,\n        \"max\": 253.0,\n        \"num_unique_values\": 2,\n        \"samples\": [\n          253.0,\n          7.0\n        ],\n        \"semantic_type\": \"\",\n        \"description\": \"\"\n      }\n    },\n    {\n      \"column\": \"F\",\n      \"properties\": {\n        \"dtype\": \"number\",\n        \"std\": null,\n        \"min\": 2.422014973122564,\n        \"max\": 2.422014973122564,\n        \"num_unique_values\": 1,\n        \"samples\": [\n          2.422014973122564\n        ],\n        \"semantic_type\": \"\",\n        \"description\": \"\"\n      }\n    },\n    {\n      \"column\": \"PR(>F)\",\n      \"properties\": {\n        \"dtype\": \"number\",\n        \"std\": null,\n        \"min\": 0.02038195800563217,\n        \"max\": 0.02038195800563217,\n        \"num_unique_values\": 1,\n        \"samples\": [\n          0.02038195800563217\n        ],\n        \"semantic_type\": \"\",\n        \"description\": \"\"\n      }\n    }\n  ]\n}"
            }
          },
          "metadata": {}
        },
        {
          "output_type": "stream",
          "name": "stdout",
          "text": [
            "Resumen del Modelo OLS:\n",
            "                            OLS Regression Results                            \n",
            "==============================================================================\n",
            "Dep. Variable:                 Rating   R-squared:                       0.063\n",
            "Model:                            OLS   Adj. R-squared:                  0.037\n",
            "Method:                 Least Squares   F-statistic:                     2.422\n",
            "Date:                Mon, 14 Oct 2024   Prob (F-statistic):             0.0204\n",
            "Time:                        00:45:02   Log-Likelihood:                -155.47\n",
            "No. Observations:                 261   AIC:                             326.9\n",
            "Df Residuals:                     253   BIC:                             355.5\n",
            "Df Model:                           7                                         \n",
            "Covariance Type:            nonrobust                                         \n",
            "===========================================================================================================\n",
            "                                              coef    std err          t      P>|t|      [0.025      0.975]\n",
            "-----------------------------------------------------------------------------------------------------------\n",
            "Intercept                                   3.2500      0.446      7.289      0.000       2.372       4.128\n",
            "C(Q(\"Broad Bean Origin\"))[T.Colombia]      -0.0250      0.451     -0.055      0.956      -0.914       0.864\n",
            "C(Q(\"Broad Bean Origin\"))[T.Ghana]         -0.1591      0.453     -0.352      0.725      -1.050       0.732\n",
            "C(Q(\"Broad Bean Origin\"))[T.Madagascar]     0.0155      0.447      0.035      0.972      -0.866       0.897\n",
            "C(Q(\"Broad Bean Origin\"))[T.Mexico]        -0.2417      0.453     -0.533      0.594      -1.134       0.651\n",
            "C(Q(\"Broad Bean Origin\"))[T.Nigeria]     7.062e-15      0.631   1.12e-14      1.000      -1.242       1.242\n",
            "C(Q(\"Broad Bean Origin\"))[T.Togo]          -0.1667      0.515     -0.324      0.746      -1.181       0.847\n",
            "C(Q(\"Broad Bean Origin\"))[T.Uganda]        -0.4375      0.473     -0.925      0.356      -1.369       0.494\n",
            "==============================================================================\n",
            "Omnibus:                        0.450   Durbin-Watson:                   1.571\n",
            "Prob(Omnibus):                  0.798   Jarque-Bera (JB):                0.357\n",
            "Skew:                          -0.090   Prob(JB):                        0.836\n",
            "Kurtosis:                       3.020   Cond. No.                         54.9\n",
            "==============================================================================\n",
            "\n",
            "Notes:\n",
            "[1] Standard Errors assume that the covariance matrix of the errors is correctly specified.\n"
          ]
        }
      ]
    },
    {
      "cell_type": "markdown",
      "source": [
        "**Prueba Post-hoc y Conclusiones**"
      ],
      "metadata": {
        "id": "GAOvHMdCd5-9"
      }
    },
    {
      "cell_type": "markdown",
      "source": [
        "Si ANOVA es significativo, realiza la prueba post-hoc con pairwise_tukeyhsd()."
      ],
      "metadata": {
        "id": "fsoKt2GEeBPs"
      }
    },
    {
      "cell_type": "code",
      "source": [
        "# Aplicar la prueba de Tukey HSD\n",
        "tukey = pairwise_tukeyhsd(endog=datacacao['Rating'],\n",
        "                          groups=datacacao['Broad Bean Origin'],\n",
        "                          alpha=0.05)\n",
        "print(\"Resultados de la Prueba Post-hoc Tukey HSD:\")\n",
        "print(tukey)\n"
      ],
      "metadata": {
        "colab": {
          "base_uri": "https://localhost:8080/"
        },
        "id": "h8nbr68SeBlw",
        "outputId": "b14b700f-c016-431a-f95d-43f228aad9e7"
      },
      "execution_count": null,
      "outputs": [
        {
          "output_type": "stream",
          "name": "stdout",
          "text": [
            "Resultados de la Prueba Post-hoc Tukey HSD:\n",
            "    Multiple Comparison of Means - Tukey HSD, FWER=0.05    \n",
            "===========================================================\n",
            "  group1     group2   meandiff p-adj   lower  upper  reject\n",
            "-----------------------------------------------------------\n",
            "  Cameroon   Colombia   -0.025    1.0 -1.4048 1.3548  False\n",
            "  Cameroon      Ghana  -0.1591    1.0 -1.5424 1.2243  False\n",
            "  Cameroon Madagascar   0.0155    1.0  -1.352 1.3831  False\n",
            "  Cameroon     Mexico  -0.2417 0.9995  -1.627 1.1437  False\n",
            "  Cameroon    Nigeria      0.0    1.0 -1.9274 1.9274  False\n",
            "  Cameroon       Togo  -0.1667    1.0 -1.7404  1.407  False\n",
            "  Cameroon     Uganda  -0.4375 0.9834  -1.883  1.008  False\n",
            "  Colombia      Ghana  -0.1341  0.906 -0.4546 0.1864  False\n",
            "  Colombia Madagascar   0.0405 0.9996 -0.2029 0.2839  False\n",
            "  Colombia     Mexico  -0.2167 0.4759 -0.5458 0.1125  False\n",
            "  Colombia    Nigeria    0.025    1.0 -1.3548 1.4048  False\n",
            "  Colombia       Togo  -0.1417 0.9995 -0.9575 0.6742  False\n",
            "  Colombia     Uganda  -0.4125 0.2515 -0.9403 0.1153  False\n",
            "     Ghana Madagascar   0.1746 0.4636 -0.0882 0.4375  False\n",
            "     Ghana     Mexico  -0.0826 0.9959 -0.4264 0.2612  False\n",
            "     Ghana    Nigeria   0.1591    1.0 -1.2243 1.5424  False\n",
            "     Ghana       Togo  -0.0076    1.0 -0.8294 0.8143  False\n",
            "     Ghana     Uganda  -0.2784 0.7593 -0.8155 0.2587  False\n",
            "Madagascar     Mexico  -0.2572  0.082 -0.5305 0.0162  False\n",
            "Madagascar    Nigeria  -0.0155    1.0 -1.3831  1.352  False\n",
            "Madagascar       Togo  -0.1822 0.9969 -0.9771 0.6128  False\n",
            "Madagascar     Uganda   -0.453 0.1002  -0.948 0.0419  False\n",
            "    Mexico    Nigeria   0.2417 0.9995 -1.1437  1.627  False\n",
            "    Mexico       Togo    0.075    1.0 -0.7502 0.9002  False\n",
            "    Mexico     Uganda  -0.1958 0.9556 -0.7381 0.3465  False\n",
            "   Nigeria       Togo  -0.1667    1.0 -1.7404  1.407  False\n",
            "   Nigeria     Uganda  -0.4375 0.9834  -1.883  1.008  False\n",
            "      Togo     Uganda  -0.2708 0.9861 -1.1935 0.6518  False\n",
            "-----------------------------------------------------------\n"
          ]
        }
      ]
    },
    {
      "cell_type": "markdown",
      "source": [
        "Visualiza los resultados del test de Tukey usando tukey.plot_simultaneous()."
      ],
      "metadata": {
        "id": "gs5G46tKei75"
      }
    },
    {
      "cell_type": "code",
      "source": [
        "# Visualizar los resultados\n",
        "tukey.plot_simultaneous(figsize=(10, 6))\n",
        "plt.title(\"Intervalos de Confianza de Tukey HSD\")\n",
        "plt.xlabel('Diferencia de Medias (cm)')\n",
        "plt.show()"
      ],
      "metadata": {
        "colab": {
          "base_uri": "https://localhost:8080/",
          "height": 564
        },
        "id": "kjRV7UqreiU7",
        "outputId": "0c54704c-3a0f-437a-f370-f9fe730d4c0d"
      },
      "execution_count": null,
      "outputs": [
        {
          "output_type": "display_data",
          "data": {
            "text/plain": [
              "<Figure size 1000x600 with 1 Axes>"
            ],
            "image/png": "[encoded data removed]"
          },
          "metadata": {}
        }
      ]
    },
    {
      "cell_type": "code",
      "source": [
        "# Convertir los resultados de Tukey a un DataFrame para una mejor visualización\n",
        "tukey_df = pd.DataFrame(data=tukey._results_table.data[1:], columns=tukey._results_table.data[0])"
      ],
      "metadata": {
        "id": "qLrVKRS1e593"
      },
      "execution_count": null,
      "outputs": []
    },
    {
      "cell_type": "markdown",
      "source": [
        "Concluye si existen diferencias significativas entre los grupos."
      ],
      "metadata": {
        "id": "WlXhsHJten1l"
      }
    },
    {
      "cell_type": "code",
      "source": [
        "print(\"\\n## Conclusiones\\n\")\n",
        "\n",
        "# Interpretación del ANOVA\n",
        "if p_value < alpha:\n",
        "    print(\"1. **Resultados ANOVA**: Existe una diferencia estadísticamente significativa en la anchura de sépalo entre las diferentes especies de Iris (p < 0.05).\")\n",
        "else:\n",
        "    print(\"1. **Resultados ANOVA**: No existe una diferencia estadísticamente significativa en la anchura de sépalo entre las diferentes especies de Iris (p >= 0.05).\")\n",
        "\n",
        "# Interpretación del Post-hoc\n",
        "print(\"\\n2. **Prueba Post-hoc Tukey HSD**:\")\n",
        "if tukey_df['reject'].any():\n",
        "    print(\"   - Se encontraron diferencias significativas entre las siguientes parejas de especies:\")\n",
        "    for index, row in tukey_df.iterrows():\n",
        "        if row['reject']:\n",
        "            print(f\"     - {row['group1']} vs {row['group2']}: Diferencia de medias = {row['meandiff']:.4f} cm (p-ajustado = {row['p-adj']:.4f})\")\n",
        "else:\n",
        "    print(\"   - No se encontraron diferencias significativas entre ninguna de las parejas de especies.\")"
      ],
      "metadata": {
        "colab": {
          "base_uri": "https://localhost:8080/"
        },
        "id": "yOCw5y4pepll",
        "outputId": "fd1054ea-cdf2-4457-cdc2-72ee0336c753"
      },
      "execution_count": null,
      "outputs": [
        {
          "output_type": "stream",
          "name": "stdout",
          "text": [
            "\n",
            "## Conclusiones\n",
            "\n",
            "1. **Resultados ANOVA**: Existe una diferencia estadísticamente significativa en la anchura de sépalo entre las diferentes especies de Iris (p < 0.05).\n",
            "\n",
            "2. **Prueba Post-hoc Tukey HSD**:\n",
            "   - No se encontraron diferencias significativas entre ninguna de las parejas de especies.\n"
          ]
        }
      ]
    }
  ]
}